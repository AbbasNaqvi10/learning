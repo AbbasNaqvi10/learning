{
  "nbformat": 4,
  "nbformat_minor": 0,
  "metadata": {
    "colab": {
      "provenance": [],
      "authorship_tag": "ABX9TyNRx/BHQFfsuiSj0g5/pR/1",
      "include_colab_link": true
    },
    "kernelspec": {
      "name": "python3",
      "display_name": "Python 3"
    },
    "language_info": {
      "name": "python"
    }
  },
  "cells": [
    {
      "cell_type": "markdown",
      "metadata": {
        "id": "view-in-github",
        "colab_type": "text"
      },
      "source": [
        "<a href=\"https://colab.research.google.com/github/AbbasNaqvi10/learning/blob/main/Classes.ipynb\" target=\"_parent\"><img src=\"https://colab.research.google.com/assets/colab-badge.svg\" alt=\"Open In Colab\"/></a>"
      ]
    },
    {
      "cell_type": "markdown",
      "source": [
        "**Classes** are that represent real-world things and situations and you create ***objects*** based on these classes. When you write a class, you define the general behavior that a whole category of objects can have.\n",
        "\n",
        "**Variables** that are acessible through instances are called ***attributes***."
      ],
      "metadata": {
        "id": "yTuDD4LC1bPc"
      }
    },
    {
      "cell_type": "code",
      "execution_count": 2,
      "metadata": {
        "id": "44zXVFoq09Cy"
      },
      "outputs": [],
      "source": [
        "class Dog:\n",
        "  def __init__(self, name, age):\n",
        "    self.name = name\n",
        "    self.age = age\n",
        "\n",
        "  def sit(self):\n",
        "    print(f\"{self.name} is now sitting.\")\n",
        "\n",
        "  def roll_over(self):\n",
        "    print(f\"{self.name} rolled over.\")"
      ]
    },
    {
      "cell_type": "markdown",
      "source": [
        "**Objects** created from class is called ***instantiation***. Object is automatically equipped with the general behaviour; you can then give each object whatever unique traits you desire."
      ],
      "metadata": {
        "id": "tLog1OtN2R8x"
      }
    },
    {
      "cell_type": "code",
      "source": [
        "my_dog = Dog('Aknop', 10)\n",
        "\n",
        "print(f\"My dog's name is {my_dog.name}\")\n",
        "print(f\"My dog is {my_dog.age} years old\")\n",
        "\n",
        "#calling methods\n",
        "my_dog.sit()\n",
        "my_dog.roll_over()"
      ],
      "metadata": {
        "colab": {
          "base_uri": "https://localhost:8080/"
        },
        "id": "70yHKwsz55CG",
        "outputId": "924c8020-50f4-48f0-d7e6-f89630dfebc0"
      },
      "execution_count": 4,
      "outputs": [
        {
          "output_type": "stream",
          "name": "stdout",
          "text": [
            "My dog's name is Aknop\n",
            "My dog is 10 years old\n",
            "Aknop is now sitting.\n",
            "Aknop rolled over.\n"
          ]
        }
      ]
    },
    {
      "cell_type": "markdown",
      "source": [
        "**Creatting Multiple Instances**"
      ],
      "metadata": {
        "id": "eNioap1M679N"
      }
    },
    {
      "cell_type": "code",
      "source": [
        "my_dog = Dog('Aknop', 10)\n",
        "your_dog = Dog('Lucy', 6)\n",
        "\n",
        "print(f\"My dog's name is {my_dog.name}\")\n",
        "print(f\"My dog is {my_dog.age} years old\")\n",
        "\n",
        "#calling methods\n",
        "my_dog.sit()\n",
        "my_dog.roll_over()\n",
        "\n",
        "print(f\"\\nYour dog's name is {your_dog.name}\")\n",
        "print(f\"Your dog is {your_dog.age} years old\")\n",
        "\n",
        "#calling methods\n",
        "your_dog.sit()\n",
        "your_dog.roll_over()"
      ],
      "metadata": {
        "colab": {
          "base_uri": "https://localhost:8080/"
        },
        "id": "HoMQzqJO7CeN",
        "outputId": "4b65aa60-d81c-4d4f-eaa7-e0f39e7b9404"
      },
      "execution_count": 5,
      "outputs": [
        {
          "output_type": "stream",
          "name": "stdout",
          "text": [
            "My dog's name is Aknop\n",
            "My dog is 10 years old\n",
            "Aknop is now sitting.\n",
            "Aknop rolled over.\n",
            "\n",
            "Your dog's name is Lucy\n",
            "Your dog is 6 years old\n",
            "Lucy is now sitting.\n",
            "Lucy rolled over.\n"
          ]
        }
      ]
    }
  ]
}